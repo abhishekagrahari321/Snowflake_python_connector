{
 "cells": [
  {
   "cell_type": "markdown",
   "id": "subjective-spelling",
   "metadata": {},
   "source": [
    "### Install Snowflake Python Connector"
   ]
  },
  {
   "cell_type": "code",
   "execution_count": 4,
   "id": "descending-consultancy",
   "metadata": {
    "collapsed": true
   },
   "outputs": [
    {
     "name": "stdout",
     "output_type": "stream",
     "text": [
      "Collecting snowflake-connector-python\n",
      "  Downloading snowflake_connector_python-3.0.0-cp39-cp39-win_amd64.whl (10.7 MB)\n",
      "Collecting asn1crypto<2.0.0,>0.24.0\n",
      "  Downloading asn1crypto-1.5.1-py2.py3-none-any.whl (105 kB)\n",
      "Collecting pycryptodomex!=3.5.0,<4.0.0,>=3.2\n",
      "  Using cached pycryptodomex-3.17-cp35-abi3-win_amd64.whl (1.7 MB)\n",
      "Collecting oscrypto<2.0.0\n",
      "  Using cached oscrypto-1.3.0-py2.py3-none-any.whl (194 kB)\n",
      "Collecting pyjwt<3.0.0\n",
      "  Using cached PyJWT-2.6.0-py3-none-any.whl (20 kB)\n",
      "Collecting filelock<4,>=3.5\n",
      "  Using cached filelock-3.9.0-py3-none-any.whl (9.7 kB)\n",
      "Collecting pyOpenSSL<24.0.0,>=16.2.0\n",
      "  Downloading pyOpenSSL-23.0.0-py3-none-any.whl (57 kB)\n",
      "Requirement already satisfied: pytz in c:\\users\\hp\\appdata\\local\\programs\\python\\python39\\lib\\site-packages (from snowflake-connector-python) (2021.1)\n",
      "Collecting cryptography<41.0.0,>=3.1.0\n",
      "  Downloading cryptography-39.0.0-cp36-abi3-win_amd64.whl (2.5 MB)\n",
      "Requirement already satisfied: urllib3<1.27,>=1.21.1 in c:\\users\\hp\\appdata\\local\\programs\\python\\python39\\lib\\site-packages (from snowflake-connector-python) (1.26.3)\n",
      "Requirement already satisfied: requests<3.0.0 in c:\\users\\hp\\appdata\\local\\programs\\python\\python39\\lib\\site-packages (from snowflake-connector-python) (2.25.1)\n",
      "Requirement already satisfied: setuptools>34.0.0 in c:\\users\\hp\\appdata\\local\\programs\\python\\python39\\lib\\site-packages (from snowflake-connector-python) (49.2.1)\n",
      "Requirement already satisfied: certifi>=2017.4.17 in c:\\users\\hp\\appdata\\local\\programs\\python\\python39\\lib\\site-packages (from snowflake-connector-python) (2020.12.5)\n",
      "Collecting typing-extensions<5,>=4.3\n",
      "  Using cached typing_extensions-4.4.0-py3-none-any.whl (26 kB)\n",
      "Requirement already satisfied: idna<4,>=2.5 in c:\\users\\hp\\appdata\\local\\programs\\python\\python39\\lib\\site-packages (from snowflake-connector-python) (2.10)\n",
      "Collecting charset-normalizer<3,>=2\n",
      "  Using cached charset_normalizer-2.1.1-py3-none-any.whl (39 kB)\n",
      "Requirement already satisfied: cffi<2.0.0,>=1.9 in c:\\users\\hp\\appdata\\local\\programs\\python\\python39\\lib\\site-packages (from snowflake-connector-python) (1.14.5)\n",
      "Requirement already satisfied: pycparser in c:\\users\\hp\\appdata\\local\\programs\\python\\python39\\lib\\site-packages (from cffi<2.0.0,>=1.9->snowflake-connector-python) (2.20)\n",
      "Requirement already satisfied: chardet<5,>=3.0.2 in c:\\users\\hp\\appdata\\local\\programs\\python\\python39\\lib\\site-packages (from requests<3.0.0->snowflake-connector-python) (4.0.0)\n",
      "Installing collected packages: cryptography, asn1crypto, typing-extensions, pyOpenSSL, pyjwt, pycryptodomex, oscrypto, filelock, charset-normalizer, snowflake-connector-python\n",
      "  Attempting uninstall: typing-extensions\n",
      "    Found existing installation: typing-extensions 4.2.0\n",
      "    Uninstalling typing-extensions-4.2.0:\n",
      "      Successfully uninstalled typing-extensions-4.2.0\n",
      "Successfully installed asn1crypto-1.5.1 charset-normalizer-2.1.1 cryptography-39.0.0 filelock-3.9.0 oscrypto-1.3.0 pyOpenSSL-23.0.0 pycryptodomex-3.17 pyjwt-2.6.0 snowflake-connector-python-3.0.0 typing-extensions-4.4.0\n",
      "Note: you may need to restart the kernel to use updated packages.\n"
     ]
    },
    {
     "name": "stderr",
     "output_type": "stream",
     "text": [
      "  WARNING: The script normalizer.exe is installed in 'c:\\users\\hp\\appdata\\local\\programs\\python\\python39\\Scripts' which is not on PATH.\n",
      "  Consider adding this directory to PATH or, if you prefer to suppress this warning, use --no-warn-script-location.\n",
      "  WARNING: The scripts snowflake-dump-certs.exe, snowflake-dump-ocsp-response-cache.exe, snowflake-dump-ocsp-response.exe and snowflake-export-certs.exe are installed in 'c:\\users\\hp\\appdata\\local\\programs\\python\\python39\\Scripts' which is not on PATH.\n",
      "  Consider adding this directory to PATH or, if you prefer to suppress this warning, use --no-warn-script-location.\n",
      "WARNING: You are using pip version 21.2.2; however, version 23.0 is available.\n",
      "You should consider upgrading via the 'c:\\users\\hp\\appdata\\local\\programs\\python\\python39\\python.exe -m pip install --upgrade pip' command.\n"
     ]
    }
   ],
   "source": [
    "pip install snowflake-connector-python"
   ]
  },
  {
   "cell_type": "markdown",
   "id": "adaptive-manitoba",
   "metadata": {},
   "source": [
    "### Import Connector and Execute Simple code to check"
   ]
  },
  {
   "cell_type": "code",
   "execution_count": 10,
   "id": "reliable-anaheim",
   "metadata": {},
   "outputs": [
    {
     "name": "stdout",
     "output_type": "stream",
     "text": [
      "7.3.2\n"
     ]
    }
   ],
   "source": [
    "import snowflake.connector\n",
    "\n",
    "ctx = snowflake.connector.connect(\n",
    "    user='ABHISHEK12',\n",
    "    password='Abhivek@123',\n",
    "    account='yxbftkk-xv23846'\n",
    "    )\n",
    "cs = ctx.cursor()\n",
    "try:\n",
    "    cs.execute(\"SELECT current_version()\")\n",
    "    one_row = cs.fetchone()\n",
    "    print(one_row[0])\n",
    "finally:\n",
    "    cs.close()\n",
    "ctx.close()"
   ]
  },
  {
   "cell_type": "markdown",
   "id": "macro-architecture",
   "metadata": {},
   "source": [
    "### Create a new Warehouse, Schema and Table and update the Table"
   ]
  },
  {
   "cell_type": "raw",
   "id": "planned-passing",
   "metadata": {},
   "source": [
    "import snowflake.connector\n",
    "\n",
    "# Connect to Snowflake\n",
    "ctx = snowflake.connector.connect(\n",
    "    user='ABHISHEK12',\n",
    "    password='Abhivek@123',\n",
    "    account='yxbftkk-xv23846'\n",
    ")\n",
    "\n",
    "# Create a cursor\n",
    "cs = ctx.cursor()\n",
    "\n",
    "# Create a warehouse\n",
    "cs.execute(\"CREATE WAREHOUSE my_warehouse\")\n",
    "\n",
    "# Set the warehouse\n",
    "cs.execute(\"USE WAREHOUSE my_warehouse\")\n",
    "\n",
    "# Create the databse\n",
    "cs.execute(\"CREATE DATABASE my_database\")\n",
    "\n",
    "# Set the database\n",
    "cs.execute(\"USE DATABASE my_database\")\n",
    "\n",
    "# Create a schema\n",
    "cs.execute(\"CREATE SCHEMA my_schema\")\n",
    "\n",
    "# Create a table\n",
    "cs.execute(\"\"\"\n",
    "CREATE TABLE my_schema.my_table (\n",
    "    Emp_ID INT,\n",
    "    Emp_Name VARCHAR(20),\n",
    "    Designation VARCHAR(20)\n",
    ")\n",
    "\"\"\")\n",
    "\n",
    "# Update the my_table\n",
    "cs.execute(\"\"\"\n",
    "INSERT INTO my_schema.my_table (Emp_ID, Emp_Name, Designation)\n",
    "VALUES (1, 'John', 'DE'), (2, 'Jane', 'DA'), (3, 'Jim', 'DA'), (4, 'Jake', 'DA'), (5, 'Roy', 'DE'), (6, 'Tom', 'DE')\n",
    "\"\"\")\n",
    "\n",
    "# Commit the changes\n",
    "ctx.commit()\n",
    "\n",
    "# Close the cursor and connection\n",
    "cs.close()\n",
    "ctx.close()\n"
   ]
  },
  {
   "cell_type": "markdown",
   "id": "minimal-locking",
   "metadata": {},
   "source": [
    "### Read the Table from Snowflake"
   ]
  },
  {
   "cell_type": "code",
   "execution_count": 49,
   "id": "quarterly-waste",
   "metadata": {},
   "outputs": [
    {
     "data": {
      "text/plain": [
       "<snowflake.connector.cursor.SnowflakeCursor at 0x1fa9407ee20>"
      ]
     },
     "execution_count": 49,
     "metadata": {},
     "output_type": "execute_result"
    }
   ],
   "source": [
    "import snowflake.connector\n",
    "import pandas as pd\n",
    "\n",
    "# Connect to Snowflake\n",
    "ctx = snowflake.connector.connect(\n",
    "    user='ABHISHEK12',\n",
    "    password='Abhivek@123',\n",
    "    account='yxbftkk-xv23846'\n",
    ")\n",
    "\n",
    "# Create a cursor\n",
    "cs = ctx.cursor()\n",
    "\n",
    "# Set the warehouse\n",
    "cs.execute(\"USE WAREHOUSE my_warehouse\")\n",
    "\n",
    "# Set the database\n",
    "cs.execute(\"USE DATABASE my_database\")\n",
    "\n",
    "# Commit the changes\n",
    "#ctx.commit()\n",
    "\n",
    "# Close the cursor and connection\n",
    "#cs.close()\n",
    "#ctx.close()"
   ]
  },
  {
   "cell_type": "code",
   "execution_count": 34,
   "id": "behind-syntax",
   "metadata": {},
   "outputs": [
    {
     "data": {
      "text/html": [
       "<div>\n",
       "<style scoped>\n",
       "    .dataframe tbody tr th:only-of-type {\n",
       "        vertical-align: middle;\n",
       "    }\n",
       "\n",
       "    .dataframe tbody tr th {\n",
       "        vertical-align: top;\n",
       "    }\n",
       "\n",
       "    .dataframe thead th {\n",
       "        text-align: right;\n",
       "    }\n",
       "</style>\n",
       "<table border=\"1\" class=\"dataframe\">\n",
       "  <thead>\n",
       "    <tr style=\"text-align: right;\">\n",
       "      <th></th>\n",
       "      <th>EMP_ID</th>\n",
       "      <th>EMP_NAME</th>\n",
       "      <th>DESIGNATION</th>\n",
       "    </tr>\n",
       "  </thead>\n",
       "  <tbody>\n",
       "    <tr>\n",
       "      <th>0</th>\n",
       "      <td>1</td>\n",
       "      <td>John</td>\n",
       "      <td>DE</td>\n",
       "    </tr>\n",
       "    <tr>\n",
       "      <th>1</th>\n",
       "      <td>2</td>\n",
       "      <td>Jane</td>\n",
       "      <td>DA</td>\n",
       "    </tr>\n",
       "    <tr>\n",
       "      <th>2</th>\n",
       "      <td>3</td>\n",
       "      <td>Jim</td>\n",
       "      <td>DA</td>\n",
       "    </tr>\n",
       "    <tr>\n",
       "      <th>3</th>\n",
       "      <td>4</td>\n",
       "      <td>Jake</td>\n",
       "      <td>DA</td>\n",
       "    </tr>\n",
       "    <tr>\n",
       "      <th>4</th>\n",
       "      <td>5</td>\n",
       "      <td>Roy</td>\n",
       "      <td>DE</td>\n",
       "    </tr>\n",
       "    <tr>\n",
       "      <th>5</th>\n",
       "      <td>6</td>\n",
       "      <td>Tom</td>\n",
       "      <td>DE</td>\n",
       "    </tr>\n",
       "  </tbody>\n",
       "</table>\n",
       "</div>"
      ],
      "text/plain": [
       "   EMP_ID EMP_NAME DESIGNATION\n",
       "0       1     John          DE\n",
       "1       2     Jane          DA\n",
       "2       3      Jim          DA\n",
       "3       4     Jake          DA\n",
       "4       5      Roy          DE\n",
       "5       6      Tom          DE"
      ]
     },
     "execution_count": 34,
     "metadata": {},
     "output_type": "execute_result"
    }
   ],
   "source": [
    "# Execute a SELECT statement to retrieve data from the table\n",
    "cs.execute(\"SELECT * FROM my_schema.my_table\")\n",
    "\n",
    "# Fetch the results into a Pandas DataFrame\n",
    "df = pd.DataFrame(cs.fetchall(), columns=[col[0] for col in cs.description])\n",
    "\n",
    "df"
   ]
  },
  {
   "cell_type": "markdown",
   "id": "ignored-intranet",
   "metadata": {},
   "source": [
    "### Create Another Table"
   ]
  },
  {
   "cell_type": "raw",
   "id": "innovative-creativity",
   "metadata": {},
   "source": [
    "# Create a table\n",
    "cs.execute(\"\"\"\n",
    "CREATE TABLE my_schema.my_table2 (\n",
    "    Emp_ID INT,\n",
    "    Emp_Name VARCHAR(20),\n",
    "    Designation VARCHAR(20)\n",
    ")\n",
    "\"\"\")\n",
    "\n",
    "# Update the my_table2\n",
    "cs.execute(\"\"\"\n",
    "INSERT INTO my_schema.my_table2 (Emp_ID, Emp_Name, Designation)\n",
    "VALUES (7, 'Denni', 'AE'), (8, 'Sam', 'AE'), (9, 'Fabin', 'BA')\n",
    "\"\"\")"
   ]
  },
  {
   "cell_type": "code",
   "execution_count": 37,
   "id": "solar-scott",
   "metadata": {},
   "outputs": [
    {
     "data": {
      "text/html": [
       "<div>\n",
       "<style scoped>\n",
       "    .dataframe tbody tr th:only-of-type {\n",
       "        vertical-align: middle;\n",
       "    }\n",
       "\n",
       "    .dataframe tbody tr th {\n",
       "        vertical-align: top;\n",
       "    }\n",
       "\n",
       "    .dataframe thead th {\n",
       "        text-align: right;\n",
       "    }\n",
       "</style>\n",
       "<table border=\"1\" class=\"dataframe\">\n",
       "  <thead>\n",
       "    <tr style=\"text-align: right;\">\n",
       "      <th></th>\n",
       "      <th>EMP_ID</th>\n",
       "      <th>EMP_NAME</th>\n",
       "      <th>DESIGNATION</th>\n",
       "    </tr>\n",
       "  </thead>\n",
       "  <tbody>\n",
       "    <tr>\n",
       "      <th>0</th>\n",
       "      <td>7</td>\n",
       "      <td>Denni</td>\n",
       "      <td>AE</td>\n",
       "    </tr>\n",
       "    <tr>\n",
       "      <th>1</th>\n",
       "      <td>8</td>\n",
       "      <td>Sam</td>\n",
       "      <td>AE</td>\n",
       "    </tr>\n",
       "    <tr>\n",
       "      <th>2</th>\n",
       "      <td>9</td>\n",
       "      <td>Fabin</td>\n",
       "      <td>BA</td>\n",
       "    </tr>\n",
       "  </tbody>\n",
       "</table>\n",
       "</div>"
      ],
      "text/plain": [
       "   EMP_ID EMP_NAME DESIGNATION\n",
       "0       7    Denni          AE\n",
       "1       8      Sam          AE\n",
       "2       9    Fabin          BA"
      ]
     },
     "execution_count": 37,
     "metadata": {},
     "output_type": "execute_result"
    }
   ],
   "source": [
    "# Execute a SELECT statement to retrieve data from the table\n",
    "cs.execute(\"SELECT * FROM my_schema.my_table2\")\n",
    "\n",
    "# Fetch the results into a Pandas DataFrame\n",
    "df2 = pd.DataFrame(cs.fetchall(), columns=[col[0] for col in cs.description])\n",
    "\n",
    "df2"
   ]
  },
  {
   "cell_type": "code",
   "execution_count": 44,
   "id": "protected-teddy",
   "metadata": {},
   "outputs": [],
   "source": [
    "# df = pd.concat([df, df2], axis=0, ignore_index=True)\n",
    "# df"
   ]
  },
  {
   "cell_type": "code",
   "execution_count": 42,
   "id": "democratic-gothic",
   "metadata": {},
   "outputs": [
    {
     "data": {
      "text/plain": [
       "<snowflake.connector.cursor.SnowflakeCursor at 0x1fa940bffd0>"
      ]
     },
     "execution_count": 42,
     "metadata": {},
     "output_type": "execute_result"
    }
   ],
   "source": [
    "# Add my_table2 data into my_table\n",
    "cs.execute(\"INSERT INTO my_schema.my_table SELECT * FROM my_schema.my_table2\")"
   ]
  },
  {
   "cell_type": "markdown",
   "id": "neutral-clerk",
   "metadata": {},
   "source": [
    "### Create Another Table having 4 columns"
   ]
  },
  {
   "cell_type": "raw",
   "id": "automotive-recycling",
   "metadata": {},
   "source": [
    "# Create a table\n",
    "cs.execute(\"\"\"\n",
    "CREATE TABLE my_schema.my_table3 (\n",
    "    Emp_ID INT,\n",
    "    Emp_Name VARCHAR(20),\n",
    "    Designation VARCHAR(20),\n",
    "    DOJ DATE\n",
    ")\n",
    "\"\"\")\n",
    "\n",
    "# Update the my_table3\n",
    "cs.execute(\"\"\"\n",
    "INSERT INTO my_schema.my_table3 (Emp_ID, Emp_Name, Designation, DOJ)\n",
    "VALUES (10, 'Messy', 'BA', '2022-09-05'), (11, 'Rom', 'AE', '2022-11-15'), (12, 'Don', 'QA', '2022-12-22')\n",
    "\"\"\")"
   ]
  },
  {
   "cell_type": "code",
   "execution_count": 45,
   "id": "peripheral-lender",
   "metadata": {},
   "outputs": [
    {
     "data": {
      "text/html": [
       "<div>\n",
       "<style scoped>\n",
       "    .dataframe tbody tr th:only-of-type {\n",
       "        vertical-align: middle;\n",
       "    }\n",
       "\n",
       "    .dataframe tbody tr th {\n",
       "        vertical-align: top;\n",
       "    }\n",
       "\n",
       "    .dataframe thead th {\n",
       "        text-align: right;\n",
       "    }\n",
       "</style>\n",
       "<table border=\"1\" class=\"dataframe\">\n",
       "  <thead>\n",
       "    <tr style=\"text-align: right;\">\n",
       "      <th></th>\n",
       "      <th>EMP_ID</th>\n",
       "      <th>EMP_NAME</th>\n",
       "      <th>DESIGNATION</th>\n",
       "      <th>DOJ</th>\n",
       "    </tr>\n",
       "  </thead>\n",
       "  <tbody>\n",
       "    <tr>\n",
       "      <th>0</th>\n",
       "      <td>10</td>\n",
       "      <td>Messy</td>\n",
       "      <td>BA</td>\n",
       "      <td>2022-09-05</td>\n",
       "    </tr>\n",
       "    <tr>\n",
       "      <th>1</th>\n",
       "      <td>11</td>\n",
       "      <td>Rom</td>\n",
       "      <td>AE</td>\n",
       "      <td>2022-11-15</td>\n",
       "    </tr>\n",
       "    <tr>\n",
       "      <th>2</th>\n",
       "      <td>12</td>\n",
       "      <td>Don</td>\n",
       "      <td>QA</td>\n",
       "      <td>2022-12-22</td>\n",
       "    </tr>\n",
       "  </tbody>\n",
       "</table>\n",
       "</div>"
      ],
      "text/plain": [
       "   EMP_ID EMP_NAME DESIGNATION         DOJ\n",
       "0      10    Messy          BA  2022-09-05\n",
       "1      11      Rom          AE  2022-11-15\n",
       "2      12      Don          QA  2022-12-22"
      ]
     },
     "execution_count": 45,
     "metadata": {},
     "output_type": "execute_result"
    }
   ],
   "source": [
    "# Execute a SELECT statement to retrieve data from the table\n",
    "cs.execute(\"SELECT * FROM my_schema.my_table3\")\n",
    "\n",
    "# Fetch the results into a Pandas DataFrame\n",
    "df3 = pd.DataFrame(cs.fetchall(), columns=[col[0] for col in cs.description])\n",
    "\n",
    "df3"
   ]
  },
  {
   "cell_type": "raw",
   "id": "special-groove",
   "metadata": {},
   "source": [
    "# Get the column names of Table1\n",
    "cs.execute(\"DESCRIBE TABLE my_schema.my_table\")\n",
    "columns = [row[0] for row in cs.fetchall()]\n",
    "\n",
    "# Generate the INSERT INTO statement dynamically using the column names of Table1\n",
    "insert_stmt = \"INSERT INTO my_schema.my_table ({}) SELECT {} FROM my_schema.my_table3\".format(\n",
    "  \", \".join(columns),\n",
    "  \", \".join(columns)\n",
    ")\n",
    "\n",
    "# Execute the INSERT INTO statement\n",
    "cs.execute(insert_stmt)"
   ]
  },
  {
   "cell_type": "raw",
   "id": "applicable-breath",
   "metadata": {},
   "source": [
    "cs.execute(\"DELETE FROM my_schema.my_table WHERE Emp_ID ='10'\")"
   ]
  },
  {
   "cell_type": "raw",
   "id": "freelance-twelve",
   "metadata": {},
   "source": [
    "cs.execute(\"Alter TABLE my_schema.my_table DROP COLUMN DOJ\")"
   ]
  },
  {
   "cell_type": "raw",
   "id": "amended-hunter",
   "metadata": {},
   "source": [
    "# Add the extra 4th column to Table1\n",
    "#cs.execute(\"ALTER TABLE my_schema.my_table ADD COLUMN DOJ DATE\")\n",
    "\n",
    "# Get the column names of Table1\n",
    "cs.execute(\"DESCRIBE TABLE my_schema.my_table\")\n",
    "columns = [row[0] for row in cs.fetchall()]\n",
    "\n",
    "# Generate the INSERT INTO statement dynamically using the column names of Table1\n",
    "insert_stmt = \"INSERT INTO my_schema.my_table ({}) SELECT {} FROM my_schema.my_table3\".format(\n",
    "  \", \".join(columns),\n",
    "  \", \".join(columns) \n",
    ")\n",
    "\n",
    "# Execute the INSERT INTO statement\n",
    "cs.execute(insert_stmt)\n"
   ]
  },
  {
   "cell_type": "markdown",
   "id": "streaming-reach",
   "metadata": {},
   "source": [
    "### Automated Code"
   ]
  },
  {
   "cell_type": "code",
   "execution_count": 82,
   "id": "seeing-answer",
   "metadata": {},
   "outputs": [
    {
     "data": {
      "text/plain": [
       "<snowflake.connector.cursor.SnowflakeCursor at 0x1fa9407ee20>"
      ]
     },
     "execution_count": 82,
     "metadata": {},
     "output_type": "execute_result"
    }
   ],
   "source": [
    "import snowflake.connector\n",
    "import os\n",
    "\n",
    "# Connect to Snowflake\n",
    "# cnx = snowflake.connector.connect(\n",
    "#   user=os.environ['ABHISHEK12'],\n",
    "#   password=os.environ['Abhivek@123'],\n",
    "#   account=os.environ['yxbftkk-xv23846']\n",
    "# )\n",
    "\n",
    "# # Create a cursor\n",
    "# cs = cnx.cursor()\n",
    "\n",
    "# Get the column names and data types of Table2\n",
    "cs.execute(\"DESCRIBE TABLE my_schema.my_table3\")\n",
    "table2_columns = [(row[0], row[1]) for row in cs.fetchall()]\n",
    "table2_columns = table2_columns[3:]\n",
    "\n",
    "# Add the columns of Table2 to Table1\n",
    "for col_name, col_type in table2_columns:\n",
    "  cs.execute(\"ALTER TABLE my_schema.my_table ADD COLUMN {} {}\".format(col_name, col_type))\n",
    "\n",
    "# Get the column names of Table1\n",
    "cs.execute(\"DESCRIBE TABLE my_schema.my_table\")\n",
    "table1_columns = [row[0] for row in cs.fetchall()]\n",
    "\n",
    "# Generate the INSERT INTO statement dynamically using the column names of Table1\n",
    "insert_stmt = \"INSERT INTO my_schema.my_table ({}) SELECT {} FROM my_schema.my_table3\".format(\n",
    "  \", \".join(table1_columns),\n",
    "  \", \".join(table1_columns)\n",
    ")\n",
    "\n",
    "# Execute the INSERT INTO statement\n",
    "cs.execute(insert_stmt)\n",
    "\n",
    "# Commit the changes\n",
    "# cnx.commit()\n",
    "\n",
    "# # Close the cursor and the connection\n",
    "# cs.close()\n",
    "# cnx.close()\n"
   ]
  },
  {
   "cell_type": "code",
   "execution_count": 80,
   "id": "southwest-lottery",
   "metadata": {},
   "outputs": [],
   "source": [
    "cs.execute(\"DESCRIBE TABLE my_schema.my_table3\")\n",
    "table2_columns = [(row[0], row[1]) for row in cs.fetchall()]\n",
    "table2_columns = table2_columns[3:]"
   ]
  },
  {
   "cell_type": "code",
   "execution_count": 81,
   "id": "provincial-advantage",
   "metadata": {},
   "outputs": [
    {
     "data": {
      "text/plain": [
       "[('DOJ', 'DATE')]"
      ]
     },
     "execution_count": 81,
     "metadata": {},
     "output_type": "execute_result"
    }
   ],
   "source": [
    "table2_columns"
   ]
  },
  {
   "cell_type": "code",
   "execution_count": null,
   "id": "hundred-command",
   "metadata": {},
   "outputs": [],
   "source": []
  }
 ],
 "metadata": {
  "kernelspec": {
   "display_name": "Python 3",
   "language": "python",
   "name": "python3"
  },
  "language_info": {
   "codemirror_mode": {
    "name": "ipython",
    "version": 3
   },
   "file_extension": ".py",
   "mimetype": "text/x-python",
   "name": "python",
   "nbconvert_exporter": "python",
   "pygments_lexer": "ipython3",
   "version": "3.9.1"
  }
 },
 "nbformat": 4,
 "nbformat_minor": 5
}
